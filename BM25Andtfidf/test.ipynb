{
 "cells": [
  {
   "cell_type": "code",
   "execution_count": 4,
   "metadata": {},
   "outputs": [],
   "source": [
    "from Assignment1_Q1 import parse_query, parse_rcv_coll\n",
    "from Assignment1_Q2 import tfidf,rankDocument,calc_df\n",
    "from Assignment1_Q3 import avgDoclen, bm25\n",
    "\n"
   ]
  },
  {
   "cell_type": "markdown",
   "metadata": {},
   "source": [
    "# Question 1"
   ]
  },
  {
   "cell_type": "code",
   "execution_count": 5,
   "metadata": {},
   "outputs": [
    {
     "name": "stdout",
     "output_type": "stream",
     "text": [
      "{'canada': 1, 'next': 1, 'unit': 1, 'state': 1, 'america': 1}\n"
     ]
    }
   ],
   "source": [
    "# filepath: need to be change \n",
    "filepath = \"/Users/max/Library/CloudStorage/OneDrive-QueenslandUniversityofTechnology/IN27/S2Y2/IFN647/Assignment/Assignment1/\"\n",
    "#Stop word\n",
    "stopwords_f = open(filepath+'common-english-words.txt', 'r') # wk3\n",
    "stop_words = stopwords_f.read().split(',')\n",
    "stopwords_f.close()\n",
    "# Testing query function\n",
    "queryInput = \"Canada is next to the United State of America\"\n",
    "querDict = parse_query(queryInput, stop_words)\n",
    "print(querDict)\n",
    "coll = parse_rcv_coll(filepath+\"Rnews_v1/\",stop_words)\n",
    "doc_coll = coll.getDocCol() \n",
    "with open('result/Arnutt_Kanchanatavee_Q1.txt', 'w') as f:\n",
    "    for id, ob in doc_coll.items():\n",
    "        f.writelines(f\"\\nDocument {id} contains {ob.getNumTerm()} terms and have total {ob.docLen} words\\n\")\n",
    "        for k,v in ob.getTerm().items():\n",
    "            f.writelines(f\"{k}:{v}\\n\")"
   ]
  },
  {
   "cell_type": "markdown",
   "metadata": {},
   "source": [
    "# Question 2"
   ]
  },
  {
   "cell_type": "code",
   "execution_count": 6,
   "metadata": {},
   "outputs": [],
   "source": [
    "#Define variable\n",
    "tf_idf_coll = {} # tfidf collection\n",
    "queryTest = [\"BELGIUM: MOTOR RACING-LEHTO AND SOPER HOLD ON FOR GT VICTORY.\"\n",
    ",\"UK: GOLF-BRITISH OPEN FOURTH ROUND LEADERBOARD.\",\n",
    "\"CANADA: Toronto stocks open mixed and directionless\"] # Query testing\n",
    "#Create the collection\n",
    "doc_fre = calc_df(coll)\n",
    "queryTf= []\n",
    "ranking =[]\n",
    "indicator = 0\n",
    "#Create the tfidf collection \n",
    "for id, obs in doc_coll.items():\n",
    "    tf_idf_coll[id] = tfidf(obs,doc_fre,coll.getDocNum())\n",
    "#Query term\n",
    "#Create the ranking colection from query\n",
    "for i in queryTest:\n",
    "    queryTf.append(parse_query(i,stop_words))\n",
    "for i in queryTf:\n",
    "    ranking.append(rankDocument(tf_idf_coll,i))\n",
    "\n",
    "# Writing the document\n",
    "with open('result/Arnutt_Kanchanatavee_Q2.txt', 'w') as f:\n",
    "    for id, ob in doc_coll.items():\n",
    "        ob_doc = doc_coll[id]\n",
    "        tfidf_dict = tfidf(ob_doc,doc_fre,coll.getDocNum())\n",
    "        first12pair = {k: tfidf_dict[k] for k in list(tfidf_dict)[:12]}\n",
    "        f.writelines(f\"\\nDocument {id} contains {ob.getNumTerm()}\\n\")\n",
    "        for k,v in first12pair.items():\n",
    "            f.writelines(f\"{k}:{v}\\n\")\n",
    "    for i in queryTest:      \n",
    "        f.writelines(f\"\\nThe Ranking Result for query: {i} \\n\")\n",
    "        for id,score in ranking[indicator].items():\n",
    "            f.writelines(f\"{id}, {score} \\n\")\n",
    "        indicator+=1"
   ]
  },
  {
   "cell_type": "markdown",
   "metadata": {},
   "source": [
    "# Question 3"
   ]
  },
  {
   "cell_type": "code",
   "execution_count": 7,
   "metadata": {},
   "outputs": [
    {
     "name": "stdout",
     "output_type": "stream",
     "text": [
      "[{'british': 1, 'fashion': 1}, {'fashion': 1, 'award': 1}, {'stock': 1, 'market': 1}, {'british': 1, 'fashion': 1, 'award': 1}]\n"
     ]
    }
   ],
   "source": [
    "# query process\n",
    "test_querylist = [\"This British fashion\",\"All fashion awards\",\"The stock markets\",\"The British-Fashion Awards\"]\n",
    "query_dict =[]\n",
    "for i in test_querylist:\n",
    "    query_dict.append(parse_query(i, stop_words))\n",
    "print(query_dict)\n",
    "#Average document lenght \n",
    "avg_doclen = avgDoclen(coll)\n",
    "\n",
    "#Document frequency \n",
    "doc_freq = calc_df(coll)\n",
    "\n",
    "# BM25\n",
    "all_bm25_ranking = []\n",
    "numberlist = 0\n",
    "for query in query_dict:\n",
    "    bm25Dict = bm25(coll,query,doc_freq)\n",
    "    all_bm25_ranking.append(bm25Dict)\n",
    "\n",
    "# Writing the document\n",
    "with open('result/Arnutt_Kanchanatavee_Q3.txt', 'w') as f:\n",
    "    f.writelines(f\"Average document length for this collection is: {avg_doclen}\\n\")\n",
    "    for i in test_querylist:\n",
    "        f.writelines(f\"\\nThe query is:: {i}\\n\")\n",
    "        f.writelines(f\"The following are the BM25 score for each document:\\n\")\n",
    "        for id, score in all_bm25_ranking[numberlist].items():\n",
    "            f.writelines(f\"Document ID:{id} , Doc Length: {doc_coll[id].docLen} -- BM25 Score: {score}\\n\")\n",
    "        f.writelines(\"\\nThe following are possibly relevant documents retrieved -\\n\")\n",
    "        temp = {k: v for k, v in sorted(all_bm25_ranking[numberlist].items(), key=lambda item: item[1], reverse=True)}\n",
    "        for id,score in temp.items():\n",
    "            f.writelines(f\"Doc Id: {id} - Score: {score}\\n\")\n",
    "        numberlist+=1"
   ]
  }
 ],
 "metadata": {
  "interpreter": {
   "hash": "31f2aee4e71d21fbe5cf8b01ff0e069b9275f58929596ceb00d14d90e3e16cd6"
  },
  "kernelspec": {
   "display_name": "Python 3.8.9 64-bit",
   "language": "python",
   "name": "python3"
  },
  "language_info": {
   "codemirror_mode": {
    "name": "ipython",
    "version": 3
   },
   "file_extension": ".py",
   "mimetype": "text/x-python",
   "name": "python",
   "nbconvert_exporter": "python",
   "pygments_lexer": "ipython3",
   "version": "3.9.7"
  },
  "orig_nbformat": 4
 },
 "nbformat": 4,
 "nbformat_minor": 2
}
